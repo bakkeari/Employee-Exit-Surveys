{
 "cells": [
  {
   "cell_type": "markdown",
   "metadata": {
    "collapsed": true,
    "jupyter": {
     "outputs_hidden": true
    }
   },
   "source": [
    "# Clean and Analyze Employee Exit Surveys\n",
    "\n",
    "This project uses data from the DETE (Department of Education, Training and Employment) and the TAFE (Technical and Further Education institute) of Queensland, Australia. The surveys were given to employees upon their resignation. Data was collected starting in 2014 and last updated in 2022. [Here](https://data.gov.au/dataset/ds-qld-fe96ff30-d157-4a81-851d-215f2a0fe26d/details?q=exit%20survey) is a link to the DETE survey, the TAFE survey is no longer available.\n",
    "\n",
    "This project aims to answer the following question:\n",
    "\n",
    "* *Are employees who only worked for the institutes for a short period of time resigning due to some kind of dissatisfaction? What about employees who have been there longer?*\n",
    "\n",
    "\n",
    "### Important columns for analysis:\n",
    "\n",
    "| dete_survey | tafe_survey | description |\n",
    "| :---------: | :---------: | :---------: |\n",
    "| ID | Record ID | An id used to identify the participant of the survey |\n",
    "| Separation Type | Reason for ceasing employment  |The reason why the participants employment ended |\n",
    "| Cease Date | CESSATION YEAR | The year or month the participants employment ended |\n",
    "| DETE Start Date | N/A  | The year the participant began employment with the DETE |\n",
    "| N/A | LengthofServiceOverall. Overall Length of Service at the Institute  (in years) | The length of the participant's employment (in years) |\n",
    "| Age | CurrentAge. Current Age | Age of participant |\n",
    "| Gender | Gender. What is your Gender?| Gender of participant |\n",
    "\n",
    "___\n",
    "### Table of Contents:\n",
    "1. Explore Dataframes\n",
    "2. Data Cleaning\n",
    "   * 2.1 Delete and Standardize Column Labels\n",
    "   * 2.2 Filter Resignation Types\n",
    "   * 2.3 Verify Data\n",
    "   * 2.4 Create New Column for insititute_service\n",
    "   * 2.5 Identify Dissatisfied Employees\n",
    "   * 2.6 Create Column to Distinguish Between Datasets\n",
    "   * 2.7 Combine\n",
    "   * 2.8 Remove Unnecessary Rows\n",
    "   * 2.9 Clean institute_service Column\n",
    "   * 2.10 Categorize institute_service_years Column\n",
    "   * 2.11 Replace NaN Values in dissatisfied column\n",
    "3. Initial Analysis\n",
    "4. Results\n",
    "5. Conclusion\n",
    "\n",
    "***\n",
    "\\*This project is part of the Junior Data Analyst course through DataQuest and focuses on data cleaning, filtering and initial analysis using Python, NumPy and Pandas as well as Matplotlib.\n",
    "\n",
    "\n",
    "## 1. Explore Data"
   ]
  },
  {
   "cell_type": "code",
   "execution_count": 77,
   "metadata": {
    "scrolled": true
   },
   "outputs": [
    {
     "name": "stdout",
     "output_type": "stream",
     "text": [
      "Rows, Columns\n",
      "(822, 56)\n",
      "\n",
      "\n",
      "\n",
      "\n",
      "<class 'pandas.core.frame.DataFrame'>\n",
      "RangeIndex: 822 entries, 0 to 821\n",
      "Data columns (total 56 columns):\n",
      " #   Column                               Non-Null Count  Dtype  \n",
      "---  ------                               --------------  -----  \n",
      " 0   ID                                   822 non-null    int64  \n",
      " 1   SeparationType                       822 non-null    object \n",
      " 2   Cease Date                           788 non-null    object \n",
      " 3   DETE Start Date                      749 non-null    float64\n",
      " 4   Role Start Date                      724 non-null    float64\n",
      " 5   Position                             817 non-null    object \n",
      " 6   Classification                       455 non-null    object \n",
      " 7   Region                               717 non-null    object \n",
      " 8   Business Unit                        126 non-null    object \n",
      " 9   Employment Status                    817 non-null    object \n",
      " 10  Career move to public sector         822 non-null    bool   \n",
      " 11  Career move to private sector        822 non-null    bool   \n",
      " 12  Interpersonal conflicts              822 non-null    bool   \n",
      " 13  Job dissatisfaction                  822 non-null    bool   \n",
      " 14  Dissatisfaction with the department  822 non-null    bool   \n",
      " 15  Physical work environment            822 non-null    bool   \n",
      " 16  Lack of recognition                  822 non-null    bool   \n",
      " 17  Lack of job security                 822 non-null    bool   \n",
      " 18  Work location                        822 non-null    bool   \n",
      " 19  Employment conditions                822 non-null    bool   \n",
      " 20  Maternity/family                     822 non-null    bool   \n",
      " 21  Relocation                           822 non-null    bool   \n",
      " 22  Study/Travel                         822 non-null    bool   \n",
      " 23  Ill Health                           822 non-null    bool   \n",
      " 24  Traumatic incident                   822 non-null    bool   \n",
      " 25  Work life balance                    822 non-null    bool   \n",
      " 26  Workload                             822 non-null    bool   \n",
      " 27  None of the above                    822 non-null    bool   \n",
      " 28  Professional Development             808 non-null    object \n",
      " 29  Opportunities for promotion          735 non-null    object \n",
      " 30  Staff morale                         816 non-null    object \n",
      " 31  Workplace issue                      788 non-null    object \n",
      " 32  Physical environment                 817 non-null    object \n",
      " 33  Worklife balance                     815 non-null    object \n",
      " 34  Stress and pressure support          810 non-null    object \n",
      " 35  Performance of supervisor            813 non-null    object \n",
      " 36  Peer support                         812 non-null    object \n",
      " 37  Initiative                           813 non-null    object \n",
      " 38  Skills                               811 non-null    object \n",
      " 39  Coach                                767 non-null    object \n",
      " 40  Career Aspirations                   746 non-null    object \n",
      " 41  Feedback                             792 non-null    object \n",
      " 42  Further PD                           768 non-null    object \n",
      " 43  Communication                        814 non-null    object \n",
      " 44  My say                               812 non-null    object \n",
      " 45  Information                          816 non-null    object \n",
      " 46  Kept informed                        813 non-null    object \n",
      " 47  Wellness programs                    766 non-null    object \n",
      " 48  Health & Safety                      793 non-null    object \n",
      " 49  Gender                               798 non-null    object \n",
      " 50  Age                                  811 non-null    object \n",
      " 51  Aboriginal                           16 non-null     object \n",
      " 52  Torres Strait                        3 non-null      object \n",
      " 53  South Sea                            7 non-null      object \n",
      " 54  Disability                           23 non-null     object \n",
      " 55  NESB                                 32 non-null     object \n",
      "dtypes: bool(18), float64(2), int64(1), object(35)\n",
      "memory usage: 258.6+ KB\n",
      "None\n",
      "\n",
      "\n",
      "\n",
      "\n",
      "First 5 Rows-dete_survey\n",
      "   ID                    SeparationType Cease Date  DETE Start Date  \\\n",
      "0   1             Ill Health Retirement    08/2012           1984.0   \n",
      "1   2  Voluntary Early Retirement (VER)    08/2012              NaN   \n",
      "2   3  Voluntary Early Retirement (VER)    05/2012           2011.0   \n",
      "3   4         Resignation-Other reasons    05/2012           2005.0   \n",
      "4   5                    Age Retirement    05/2012           1970.0   \n",
      "\n",
      "   Role Start Date                                      Position  \\\n",
      "0           2004.0                                Public Servant   \n",
      "1              NaN                                Public Servant   \n",
      "2           2011.0                               Schools Officer   \n",
      "3           2006.0                                       Teacher   \n",
      "4           1989.0  Head of Curriculum/Head of Special Education   \n",
      "\n",
      "  Classification              Region                      Business Unit  \\\n",
      "0        A01-A04      Central Office  Corporate Strategy and Peformance   \n",
      "1        AO5-AO7      Central Office  Corporate Strategy and Peformance   \n",
      "2            NaN      Central Office               Education Queensland   \n",
      "3        Primary  Central Queensland                                NaN   \n",
      "4            NaN          South East                                NaN   \n",
      "\n",
      "     Employment Status  ...  Kept informed  Wellness programs  \\\n",
      "0  Permanent Full-time  ...              N                  N   \n",
      "1  Permanent Full-time  ...              N                  N   \n",
      "2  Permanent Full-time  ...              N                  N   \n",
      "3  Permanent Full-time  ...              A                  N   \n",
      "4  Permanent Full-time  ...              N                  A   \n",
      "\n",
      "   Health & Safety  Gender          Age  Aboriginal  Torres Strait  South Sea  \\\n",
      "0                N    Male        56-60         NaN            NaN        NaN   \n",
      "1                N    Male        56-60         NaN            NaN        NaN   \n",
      "2                N    Male  61 or older         NaN            NaN        NaN   \n",
      "3                A  Female        36-40         NaN            NaN        NaN   \n",
      "4                M  Female  61 or older         NaN            NaN        NaN   \n",
      "\n",
      "   Disability  NESB  \n",
      "0         NaN   Yes  \n",
      "1         NaN   NaN  \n",
      "2         NaN   NaN  \n",
      "3         NaN   NaN  \n",
      "4         NaN   NaN  \n",
      "\n",
      "[5 rows x 56 columns]\n"
     ]
    }
   ],
   "source": [
    "import pandas as pd\n",
    "import numpy as np\n",
    "import matplotlib.pyplot as plt\n",
    "%matplotlib inline\n",
    "\n",
    "dete_survey = pd.read_csv('dete_survey.csv', na_values ='Not Stated')\n",
    "tafe_survey = pd.read_csv('tafe_survey.csv')\n",
    "print('Rows, Columns')\n",
    "print(dete_survey.shape)\n",
    "print('\\n')\n",
    "print('\\n')\n",
    "print(dete_survey.info())\n",
    "print('\\n')\n",
    "print('\\n')\n",
    "print('First 5 Rows-dete_survey')\n",
    "print(dete_survey.head())"
   ]
  },
  {
   "cell_type": "markdown",
   "metadata": {},
   "source": [
    "After an initial glance at some information from the `dete_survey` we know that it contains 822 rows and 56 columns. Many columns are boolean, many are object and most rows contain few null values (the original dataset used 'Not Stated' for missing values, this was addressed using `(dete_survey_csv,na = 'Not Stated')` when reading in the original dataset. However, the demographic area columns seem to have a lot of missing values. Since our analysis is going to focus on dissatisfaction and employees who have resigned it looks like we may be able to delete quite a few rows later on.\n",
    "\n",
    "Let's look at the `tafe_survey`:"
   ]
  },
  {
   "cell_type": "code",
   "execution_count": 78,
   "metadata": {
    "scrolled": true
   },
   "outputs": [
    {
     "name": "stdout",
     "output_type": "stream",
     "text": [
      "Rows, Columns\n",
      "(702, 72)\n",
      "\n",
      "\n",
      "\n",
      "\n",
      "<class 'pandas.core.frame.DataFrame'>\n",
      "RangeIndex: 702 entries, 0 to 701\n",
      "Data columns (total 72 columns):\n",
      " #   Column                                                                                                                                                         Non-Null Count  Dtype  \n",
      "---  ------                                                                                                                                                         --------------  -----  \n",
      " 0   Record ID                                                                                                                                                      702 non-null    float64\n",
      " 1   Institute                                                                                                                                                      702 non-null    object \n",
      " 2   WorkArea                                                                                                                                                       702 non-null    object \n",
      " 3   CESSATION YEAR                                                                                                                                                 695 non-null    float64\n",
      " 4   Reason for ceasing employment                                                                                                                                  701 non-null    object \n",
      " 5   Contributing Factors. Career Move - Public Sector                                                                                                              437 non-null    object \n",
      " 6   Contributing Factors. Career Move - Private Sector                                                                                                             437 non-null    object \n",
      " 7   Contributing Factors. Career Move - Self-employment                                                                                                            437 non-null    object \n",
      " 8   Contributing Factors. Ill Health                                                                                                                               437 non-null    object \n",
      " 9   Contributing Factors. Maternity/Family                                                                                                                         437 non-null    object \n",
      " 10  Contributing Factors. Dissatisfaction                                                                                                                          437 non-null    object \n",
      " 11  Contributing Factors. Job Dissatisfaction                                                                                                                      437 non-null    object \n",
      " 12  Contributing Factors. Interpersonal Conflict                                                                                                                   437 non-null    object \n",
      " 13  Contributing Factors. Study                                                                                                                                    437 non-null    object \n",
      " 14  Contributing Factors. Travel                                                                                                                                   437 non-null    object \n",
      " 15  Contributing Factors. Other                                                                                                                                    437 non-null    object \n",
      " 16  Contributing Factors. NONE                                                                                                                                     437 non-null    object \n",
      " 17  Main Factor. Which of these was the main factor for leaving?                                                                                                   113 non-null    object \n",
      " 18  InstituteViews. Topic:1. I feel the senior leadership had a clear vision and direction                                                                         608 non-null    object \n",
      " 19  InstituteViews. Topic:2. I was given access to skills training to help me do my job better                                                                     613 non-null    object \n",
      " 20  InstituteViews. Topic:3. I was given adequate opportunities for personal development                                                                           610 non-null    object \n",
      " 21  InstituteViews. Topic:4. I was given adequate opportunities for promotion within %Institute]Q25LBL%                                                            608 non-null    object \n",
      " 22  InstituteViews. Topic:5. I felt the salary for the job was right for the responsibilities I had                                                                615 non-null    object \n",
      " 23  InstituteViews. Topic:6. The organisation recognised when staff did good work                                                                                  607 non-null    object \n",
      " 24  InstituteViews. Topic:7. Management was generally supportive of me                                                                                             614 non-null    object \n",
      " 25  InstituteViews. Topic:8. Management was generally supportive of my team                                                                                        608 non-null    object \n",
      " 26  InstituteViews. Topic:9. I was kept informed of the changes in the organisation which would affect me                                                          610 non-null    object \n",
      " 27  InstituteViews. Topic:10. Staff morale was positive within the Institute                                                                                       602 non-null    object \n",
      " 28  InstituteViews. Topic:11. If I had a workplace issue it was dealt with quickly                                                                                 601 non-null    object \n",
      " 29  InstituteViews. Topic:12. If I had a workplace issue it was dealt with efficiently                                                                             597 non-null    object \n",
      " 30  InstituteViews. Topic:13. If I had a workplace issue it was dealt with discreetly                                                                              601 non-null    object \n",
      " 31  WorkUnitViews. Topic:14. I was satisfied with the quality of the management and supervision within my work unit                                                609 non-null    object \n",
      " 32  WorkUnitViews. Topic:15. I worked well with my colleagues                                                                                                      605 non-null    object \n",
      " 33  WorkUnitViews. Topic:16. My job was challenging and interesting                                                                                                607 non-null    object \n",
      " 34  WorkUnitViews. Topic:17. I was encouraged to use my initiative in the course of my work                                                                        610 non-null    object \n",
      " 35  WorkUnitViews. Topic:18. I had sufficient contact with other people in my job                                                                                  613 non-null    object \n",
      " 36  WorkUnitViews. Topic:19. I was given adequate support and co-operation by my peers to enable me to do my job                                                   609 non-null    object \n",
      " 37  WorkUnitViews. Topic:20. I was able to use the full range of my skills in my job                                                                               609 non-null    object \n",
      " 38  WorkUnitViews. Topic:21. I was able to use the full range of my abilities in my job. ; Category:Level of Agreement; Question:YOUR VIEWS ABOUT YOUR WORK UNIT]  608 non-null    object \n",
      " 39  WorkUnitViews. Topic:22. I was able to use the full range of my knowledge in my job                                                                            608 non-null    object \n",
      " 40  WorkUnitViews. Topic:23. My job provided sufficient variety                                                                                                    611 non-null    object \n",
      " 41  WorkUnitViews. Topic:24. I was able to cope with the level of stress and pressure in my job                                                                    610 non-null    object \n",
      " 42  WorkUnitViews. Topic:25. My job allowed me to balance the demands of work and family to my satisfaction                                                        611 non-null    object \n",
      " 43  WorkUnitViews. Topic:26. My supervisor gave me adequate personal recognition and feedback on my performance                                                    606 non-null    object \n",
      " 44  WorkUnitViews. Topic:27. My working environment was satisfactory e.g. sufficient space, good lighting, suitable seating and working area                       610 non-null    object \n",
      " 45  WorkUnitViews. Topic:28. I was given the opportunity to mentor and coach others in order for me to pass on my skills and knowledge prior to my cessation date  609 non-null    object \n",
      " 46  WorkUnitViews. Topic:29. There was adequate communication between staff in my unit                                                                             603 non-null    object \n",
      " 47  WorkUnitViews. Topic:30. Staff morale was positive within my work unit                                                                                         606 non-null    object \n",
      " 48  Induction. Did you undertake Workplace Induction?                                                                                                              619 non-null    object \n",
      " 49  InductionInfo. Topic:Did you undertake a Corporate Induction?                                                                                                  432 non-null    object \n",
      " 50  InductionInfo. Topic:Did you undertake a Institute Induction?                                                                                                  483 non-null    object \n",
      " 51  InductionInfo. Topic: Did you undertake Team Induction?                                                                                                        440 non-null    object \n",
      " 52  InductionInfo. Face to Face Topic:Did you undertake a Corporate Induction; Category:How it was conducted?                                                      555 non-null    object \n",
      " 53  InductionInfo. On-line Topic:Did you undertake a Corporate Induction; Category:How it was conducted?                                                           555 non-null    object \n",
      " 54  InductionInfo. Induction Manual Topic:Did you undertake a Corporate Induction?                                                                                 555 non-null    object \n",
      " 55  InductionInfo. Face to Face Topic:Did you undertake a Institute Induction?                                                                                     530 non-null    object \n",
      " 56  InductionInfo. On-line Topic:Did you undertake a Institute Induction?                                                                                          555 non-null    object \n",
      " 57  InductionInfo. Induction Manual Topic:Did you undertake a Institute Induction?                                                                                 553 non-null    object \n",
      " 58  InductionInfo. Face to Face Topic: Did you undertake Team Induction; Category?                                                                                 555 non-null    object \n",
      " 59  InductionInfo. On-line Topic: Did you undertake Team Induction?process you undertook and how it was conducted.]                                                555 non-null    object \n",
      " 60  InductionInfo. Induction Manual Topic: Did you undertake Team Induction?                                                                                       555 non-null    object \n",
      " 61  Workplace. Topic:Did you and your Manager develop a Performance and Professional Development Plan (PPDP)?                                                      608 non-null    object \n",
      " 62  Workplace. Topic:Does your workplace promote a work culture free from all forms of unlawful discrimination?                                                    594 non-null    object \n",
      " 63  Workplace. Topic:Does your workplace promote and practice the principles of employment equity?                                                                 587 non-null    object \n",
      " 64  Workplace. Topic:Does your workplace value the diversity of its employees?                                                                                     586 non-null    object \n",
      " 65  Workplace. Topic:Would you recommend the Institute as an employer to others?                                                                                   581 non-null    object \n",
      " 66  Gender. What is your Gender?                                                                                                                                   596 non-null    object \n",
      " 67  CurrentAge. Current Age                                                                                                                                        596 non-null    object \n",
      " 68  Employment Type. Employment Type                                                                                                                               596 non-null    object \n",
      " 69  Classification. Classification                                                                                                                                 596 non-null    object \n",
      " 70  LengthofServiceOverall. Overall Length of Service at Institute (in years)                                                                                      596 non-null    object \n",
      " 71  LengthofServiceCurrent. Length of Service at current workplace (in years)                                                                                      596 non-null    object \n",
      "dtypes: float64(2), object(70)\n",
      "memory usage: 395.0+ KB\n",
      "None\n",
      "\n",
      "\n",
      "\n",
      "\n",
      "First 5 rows-Tafe_survey\n",
      "      Record ID                              Institute  \\\n",
      "0  6.341330e+17  Southern Queensland Institute of TAFE   \n",
      "1  6.341337e+17            Mount Isa Institute of TAFE   \n",
      "2  6.341388e+17            Mount Isa Institute of TAFE   \n",
      "3  6.341399e+17            Mount Isa Institute of TAFE   \n",
      "4  6.341466e+17  Southern Queensland Institute of TAFE   \n",
      "\n",
      "                   WorkArea  CESSATION YEAR Reason for ceasing employment  \\\n",
      "0  Non-Delivery (corporate)          2010.0              Contract Expired   \n",
      "1  Non-Delivery (corporate)          2010.0                    Retirement   \n",
      "2       Delivery (teaching)          2010.0                    Retirement   \n",
      "3  Non-Delivery (corporate)          2010.0                   Resignation   \n",
      "4       Delivery (teaching)          2010.0                   Resignation   \n",
      "\n",
      "  Contributing Factors. Career Move - Public Sector   \\\n",
      "0                                                NaN   \n",
      "1                                                  -   \n",
      "2                                                  -   \n",
      "3                                                  -   \n",
      "4                                                  -   \n",
      "\n",
      "  Contributing Factors. Career Move - Private Sector   \\\n",
      "0                                                NaN    \n",
      "1                                                  -    \n",
      "2                                                  -    \n",
      "3                                                  -    \n",
      "4                       Career Move - Private Sector    \n",
      "\n",
      "  Contributing Factors. Career Move - Self-employment  \\\n",
      "0                                                NaN    \n",
      "1                                                  -    \n",
      "2                                                  -    \n",
      "3                                                  -    \n",
      "4                                                  -    \n",
      "\n",
      "  Contributing Factors. Ill Health Contributing Factors. Maternity/Family  \\\n",
      "0                              NaN                                    NaN   \n",
      "1                                -                                      -   \n",
      "2                                -                                      -   \n",
      "3                                -                                      -   \n",
      "4                                -                                      -   \n",
      "\n",
      "   ...  \\\n",
      "0  ...   \n",
      "1  ...   \n",
      "2  ...   \n",
      "3  ...   \n",
      "4  ...   \n",
      "\n",
      "  Workplace. Topic:Does your workplace promote a work culture free from all forms of unlawful discrimination?  \\\n",
      "0                                                Yes                                                            \n",
      "1                                                Yes                                                            \n",
      "2                                                Yes                                                            \n",
      "3                                                Yes                                                            \n",
      "4                                                Yes                                                            \n",
      "\n",
      "  Workplace. Topic:Does your workplace promote and practice the principles of employment equity?  \\\n",
      "0                                                Yes                                               \n",
      "1                                                Yes                                               \n",
      "2                                                Yes                                               \n",
      "3                                                Yes                                               \n",
      "4                                                Yes                                               \n",
      "\n",
      "  Workplace. Topic:Does your workplace value the diversity of its employees?  \\\n",
      "0                                                Yes                           \n",
      "1                                                Yes                           \n",
      "2                                                Yes                           \n",
      "3                                                Yes                           \n",
      "4                                                Yes                           \n",
      "\n",
      "  Workplace. Topic:Would you recommend the Institute as an employer to others?  \\\n",
      "0                                                Yes                             \n",
      "1                                                Yes                             \n",
      "2                                                Yes                             \n",
      "3                                                Yes                             \n",
      "4                                                Yes                             \n",
      "\n",
      "  Gender. What is your Gender? CurrentAge. Current Age  \\\n",
      "0                       Female                  26  30   \n",
      "1                          NaN                     NaN   \n",
      "2                          NaN                     NaN   \n",
      "3                          NaN                     NaN   \n",
      "4                         Male                  41  45   \n",
      "\n",
      "  Employment Type. Employment Type Classification. Classification  \\\n",
      "0              Temporary Full-time            Administration (AO)   \n",
      "1                              NaN                            NaN   \n",
      "2                              NaN                            NaN   \n",
      "3                              NaN                            NaN   \n",
      "4              Permanent Full-time        Teacher (including LVT)   \n",
      "\n",
      "  LengthofServiceOverall. Overall Length of Service at Institute (in years)  \\\n",
      "0                                                1-2                          \n",
      "1                                                NaN                          \n",
      "2                                                NaN                          \n",
      "3                                                NaN                          \n",
      "4                                                3-4                          \n",
      "\n",
      "  LengthofServiceCurrent. Length of Service at current workplace (in years)  \n",
      "0                                                1-2                         \n",
      "1                                                NaN                         \n",
      "2                                                NaN                         \n",
      "3                                                NaN                         \n",
      "4                                                3-4                         \n",
      "\n",
      "[5 rows x 72 columns]\n"
     ]
    }
   ],
   "source": [
    "print('Rows, Columns')\n",
    "print(tafe_survey.shape)\n",
    "print('\\n')\n",
    "print('\\n')\n",
    "print(tafe_survey.info())\n",
    "print('\\n')\n",
    "print('\\n')\n",
    "print(\"First 5 rows-Tafe_survey\")\n",
    "print(tafe_survey.head())"
   ]
  },
  {
   "cell_type": "markdown",
   "metadata": {},
   "source": [
    "We can see that these two surveys were set up very differently so we will have to dig deeper into both to be able to analyze the datasets efficiently.\n",
    "\n",
    "## 2. Data Cleaning\n",
    "### 2.1 Delete and Standardize Column Labels\n",
    "Let's start by deleting some immediately unnecessary columns. Since we are only looking at information about resignations we can see that there are quite a few columns we can delete. Then we will standardize the columns names."
   ]
  },
  {
   "cell_type": "code",
   "execution_count": 79,
   "metadata": {
    "scrolled": true
   },
   "outputs": [
    {
     "name": "stdout",
     "output_type": "stream",
     "text": [
      "<class 'pandas.core.frame.DataFrame'>\n",
      "RangeIndex: 822 entries, 0 to 821\n",
      "Data columns (total 35 columns):\n",
      " #   Column                               Non-Null Count  Dtype  \n",
      "---  ------                               --------------  -----  \n",
      " 0   id                                   822 non-null    int64  \n",
      " 1   separationtype                       822 non-null    object \n",
      " 2   cease_date                           788 non-null    object \n",
      " 3   dete_start_date                      749 non-null    float64\n",
      " 4   role_start_date                      724 non-null    float64\n",
      " 5   position                             817 non-null    object \n",
      " 6   classification                       455 non-null    object \n",
      " 7   region                               717 non-null    object \n",
      " 8   business_unit                        126 non-null    object \n",
      " 9   employment_status                    817 non-null    object \n",
      " 10  career_move_to_public_sector         822 non-null    bool   \n",
      " 11  career_move_to_private_sector        822 non-null    bool   \n",
      " 12  interpersonal_conflicts              822 non-null    bool   \n",
      " 13  job_dissatisfaction                  822 non-null    bool   \n",
      " 14  dissatisfaction_with_the_department  822 non-null    bool   \n",
      " 15  physical_work_environment            822 non-null    bool   \n",
      " 16  lack_of_recognition                  822 non-null    bool   \n",
      " 17  lack_of_job_security                 822 non-null    bool   \n",
      " 18  work_location                        822 non-null    bool   \n",
      " 19  employment_conditions                822 non-null    bool   \n",
      " 20  maternity/family                     822 non-null    bool   \n",
      " 21  relocation                           822 non-null    bool   \n",
      " 22  study/travel                         822 non-null    bool   \n",
      " 23  ill_health                           822 non-null    bool   \n",
      " 24  traumatic_incident                   822 non-null    bool   \n",
      " 25  work_life_balance                    822 non-null    bool   \n",
      " 26  workload                             822 non-null    bool   \n",
      " 27  none_of_the_above                    822 non-null    bool   \n",
      " 28  gender                               798 non-null    object \n",
      " 29  age                                  811 non-null    object \n",
      " 30  aboriginal                           16 non-null     object \n",
      " 31  torres_strait                        3 non-null      object \n",
      " 32  south_sea                            7 non-null      object \n",
      " 33  disability                           23 non-null     object \n",
      " 34  nesb                                 32 non-null     object \n",
      "dtypes: bool(18), float64(2), int64(1), object(14)\n",
      "memory usage: 123.7+ KB\n",
      "None\n",
      "\n",
      "\n",
      "<class 'pandas.core.frame.DataFrame'>\n",
      "RangeIndex: 702 entries, 0 to 701\n",
      "Data columns (total 23 columns):\n",
      " #   Column                                               Non-Null Count  Dtype  \n",
      "---  ------                                               --------------  -----  \n",
      " 0   id                                                   702 non-null    float64\n",
      " 1   Institute                                            702 non-null    object \n",
      " 2   WorkArea                                             702 non-null    object \n",
      " 3   cease_date                                           695 non-null    float64\n",
      " 4   separationtype                                       701 non-null    object \n",
      " 5   Contributing Factors. Career Move - Public Sector    437 non-null    object \n",
      " 6   Contributing Factors. Career Move - Private Sector   437 non-null    object \n",
      " 7   Contributing Factors. Career Move - Self-employment  437 non-null    object \n",
      " 8   Contributing Factors. Ill Health                     437 non-null    object \n",
      " 9   Contributing Factors. Maternity/Family               437 non-null    object \n",
      " 10  Contributing Factors. Dissatisfaction                437 non-null    object \n",
      " 11  Contributing Factors. Job Dissatisfaction            437 non-null    object \n",
      " 12  Contributing Factors. Interpersonal Conflict         437 non-null    object \n",
      " 13  Contributing Factors. Study                          437 non-null    object \n",
      " 14  Contributing Factors. Travel                         437 non-null    object \n",
      " 15  Contributing Factors. Other                          437 non-null    object \n",
      " 16  Contributing Factors. NONE                           437 non-null    object \n",
      " 17  gender                                               596 non-null    object \n",
      " 18  age                                                  596 non-null    object \n",
      " 19  employment_status                                    596 non-null    object \n",
      " 20  position                                             596 non-null    object \n",
      " 21  institute_service                                    596 non-null    object \n",
      " 22  role_service                                         596 non-null    object \n",
      "dtypes: float64(2), object(21)\n",
      "memory usage: 126.3+ KB\n",
      "None\n"
     ]
    }
   ],
   "source": [
    "#Delete unnecessary columns\n",
    "dete_survey_updated = dete_survey.drop(dete_survey.columns[28:49], axis = 1)\n",
    "tafe_survey_updated = tafe_survey.drop(tafe_survey.columns[17:66], axis = 1)\n",
    "\n",
    "#Standardize column names\n",
    "dete_survey_updated.columns = dete_survey_updated.columns.str.lower().str.strip().str.replace(' ','_')\n",
    "print(dete_survey_updated.info())\n",
    "\n",
    "#Rename tafe_survey columns to match the updated dete_survey columns\n",
    "tafe_new_column_names = {'Record ID': 'id',\n",
    "                         'CESSATION YEAR':'cease_date', \n",
    "                         'Reason for ceasing employment': 'separationtype', \n",
    "                         'Gender. What is your Gender?': 'gender', \n",
    "                         'CurrentAge. Current Age': 'age', \n",
    "                         'Employment Type. Employment Type': 'employment_status',\n",
    "                         'Classification. Classification': 'position',\n",
    "                         'LengthofServiceOverall. Overall Length of Service at Institute (in years)':'institute_service',\n",
    "                         'LengthofServiceCurrent. Length of Service at current workplace (in years)':'role_service'}\n",
    "tafe_survey_updated = tafe_survey_updated.rename(tafe_new_column_names,  axis ='columns')\n",
    "print('\\n')\n",
    "print(tafe_survey_updated.info())"
   ]
  },
  {
   "cell_type": "markdown",
   "metadata": {},
   "source": [
    "Those column name changes look good. Now they are standardized and the column names are the same across both datasets. \n",
    "\n",
    "### 2.2 Filter Resignation Types\n",
    "Since our analysis is looking specifically at employees who have resigned, we only need to look at rows where the employee resigned. The `dete_survey` contains three different 'Resignation' types and the `tafe_survey` contains one. We will see how many rows each survey has and then copy only those rows."
   ]
  },
  {
   "cell_type": "code",
   "execution_count": 80,
   "metadata": {},
   "outputs": [
    {
     "name": "stdout",
     "output_type": "stream",
     "text": [
      "dete_survey_updated counts\n",
      "Age Retirement                          285\n",
      "Resignation-Other reasons               150\n",
      "Resignation-Other employer               91\n",
      "Resignation-Move overseas/interstate     70\n",
      "Voluntary Early Retirement (VER)         67\n",
      "Ill Health Retirement                    61\n",
      "Other                                    49\n",
      "Contract Expired                         34\n",
      "Termination                              15\n",
      "Name: separationtype, dtype: int64\n",
      "\n",
      "\n",
      "tafe_survey_updated counts\n",
      "Resignation                 340\n",
      "Contract Expired            127\n",
      "Retrenchment/ Redundancy    104\n",
      "Retirement                   82\n",
      "Transfer                     25\n",
      "Termination                  23\n",
      "Name: separationtype, dtype: int64\n"
     ]
    }
   ],
   "source": [
    "#Find counts of separation types with 'resignation'\n",
    "dete_counts = dete_survey_updated['separationtype'].value_counts()\n",
    "print('dete_survey_updated counts')\n",
    "print(dete_counts)\n",
    "tafe_counts  = tafe_survey_updated['separationtype'].value_counts()\n",
    "print('\\n')\n",
    "print('tafe_survey_updated counts')\n",
    "print(tafe_counts)"
   ]
  },
  {
   "cell_type": "code",
   "execution_count": 81,
   "metadata": {},
   "outputs": [],
   "source": [
    "#Create list of resignation types and copy\n",
    "dete_resignation = ['Resignation-Other reasons', \n",
    "                    'Resignation-Other employer', \n",
    "                    'Resignation-Move overseas/interstate']\n",
    "dete_resignations = dete_survey_updated.copy()[dete_survey_updated['separationtype'].isin(dete_resignation)]\n",
    "\n",
    "tafe_resignations = tafe_survey_updated.copy()[tafe_survey_updated['separationtype']== 'Resignation']"
   ]
  },
  {
   "cell_type": "markdown",
   "metadata": {},
   "source": [
    "### 2.3 Verify Data \n",
    "Next we will make sure that our data makes sense. We will do this by checking the `cease_date` and `dete_start_date` columns. We want to make sure that the `cease_date` is after the `dete_start_date` and that the `dete_start_dates` aren't too far in the past."
   ]
  },
  {
   "cell_type": "code",
   "execution_count": 82,
   "metadata": {
    "scrolled": true
   },
   "outputs": [
    {
     "name": "stdout",
     "output_type": "stream",
     "text": [
      "dete_cease_date\n",
      "2006.0      1\n",
      "2010.0      2\n",
      "2012.0    129\n",
      "2013.0    146\n",
      "2014.0     22\n",
      "Name: cease_date, dtype: int64\n",
      "\n",
      "\n",
      "dete_start_date\n",
      "1963.0     1\n",
      "1971.0     1\n",
      "1972.0     1\n",
      "1973.0     1\n",
      "1974.0     2\n",
      "1975.0     1\n",
      "1976.0     2\n",
      "1977.0     1\n",
      "1980.0     5\n",
      "1982.0     1\n",
      "1983.0     2\n",
      "1984.0     1\n",
      "1985.0     3\n",
      "1986.0     3\n",
      "1987.0     1\n",
      "1988.0     4\n",
      "1989.0     4\n",
      "1990.0     5\n",
      "1991.0     4\n",
      "1992.0     6\n",
      "1993.0     5\n",
      "1994.0     6\n",
      "1995.0     4\n",
      "1996.0     6\n",
      "1997.0     5\n",
      "1998.0     6\n",
      "1999.0     8\n",
      "2000.0     9\n",
      "2001.0     3\n",
      "2002.0     6\n",
      "2003.0     6\n",
      "2004.0    14\n",
      "2005.0    15\n",
      "2006.0    13\n",
      "2007.0    21\n",
      "2008.0    22\n",
      "2009.0    13\n",
      "2010.0    17\n",
      "2011.0    24\n",
      "2012.0    21\n",
      "2013.0    10\n",
      "Name: dete_start_date, dtype: int64\n"
     ]
    }
   ],
   "source": [
    "#Extract the year from cease_date column and verify that values are logical\n",
    "dete_cease_years = dete_resignations['cease_date'].str.split('/').str.get(-1).astype(float)\n",
    "print('dete_cease_date')\n",
    "print(dete_cease_years.value_counts().sort_index())\n",
    "\n",
    "#Verify dete_start_date column\n",
    "dete_start_years = dete_resignations['dete_start_date'].value_counts().sort_index()\n",
    "print('\\n')\n",
    "print('dete_start_date')\n",
    "print(dete_start_years)"
   ]
  },
  {
   "cell_type": "code",
   "execution_count": 83,
   "metadata": {},
   "outputs": [
    {
     "name": "stdout",
     "output_type": "stream",
     "text": [
      "tafe cease_dates\n",
      "2009.0      2\n",
      "2010.0     68\n",
      "2011.0    116\n",
      "2012.0     94\n",
      "2013.0     55\n",
      "Name: cease_date, dtype: int64\n"
     ]
    }
   ],
   "source": [
    "#Verify tafe_resignations cease_date column values\n",
    "tafe_cease_dates = tafe_resignations['cease_date'].value_counts().sort_index()\n",
    "print('tafe cease_dates')\n",
    "print(tafe_cease_dates)\n"
   ]
  },
  {
   "cell_type": "markdown",
   "metadata": {},
   "source": [
    "The values for these columns look logical. There are no crazy outliers.\n",
    "\n",
    "### 2.4 Create New Column for `institute_service`\n",
    "As a reminder,our main questions we hope to answer is:\n",
    "Are employees who have worked for dete/tafe for a short time resigning due to dissatisfaction? What about employees who have worked for dete/tafe longer? \n",
    "\n",
    "To answer theis questions we need to know if an employees has been working for DETE/TAFE for a long or short period of time. The `tafe_resignations` dataframe already contains a column (`institute_service`) that tells gives us this information but we will need to create a new column for the `dete_resignations` dataframe. To do this we will subtract the `cease_date` column from the `dete_start_date` column."
   ]
  },
  {
   "cell_type": "code",
   "execution_count": 84,
   "metadata": {
    "scrolled": true
   },
   "outputs": [
    {
     "name": "stdout",
     "output_type": "stream",
     "text": [
      "0.0     20\n",
      "1.0     22\n",
      "2.0     14\n",
      "3.0     20\n",
      "4.0     16\n",
      "5.0     23\n",
      "6.0     17\n",
      "7.0     13\n",
      "8.0      8\n",
      "9.0     14\n",
      "10.0     6\n",
      "11.0     4\n",
      "12.0     6\n",
      "13.0     8\n",
      "14.0     6\n",
      "15.0     7\n",
      "16.0     5\n",
      "17.0     6\n",
      "18.0     5\n",
      "19.0     3\n",
      "20.0     7\n",
      "21.0     3\n",
      "22.0     6\n",
      "23.0     4\n",
      "24.0     4\n",
      "25.0     2\n",
      "26.0     2\n",
      "27.0     1\n",
      "28.0     2\n",
      "29.0     1\n",
      "30.0     2\n",
      "31.0     1\n",
      "32.0     3\n",
      "33.0     1\n",
      "34.0     1\n",
      "35.0     1\n",
      "36.0     2\n",
      "38.0     1\n",
      "39.0     3\n",
      "41.0     1\n",
      "42.0     1\n",
      "49.0     1\n",
      "Name: institute_service, dtype: int64\n"
     ]
    }
   ],
   "source": [
    "#Create institute_service column in dete_resignations\n",
    "dete_resignations['institute_service'] = dete_cease_years - dete_resignations['dete_start_date']\n",
    "print(dete_resignations['institute_service'].value_counts().sort_index())"
   ]
  },
  {
   "cell_type": "markdown",
   "metadata": {},
   "source": [
    "Now we can clearly see how many employees were with DETE and for how long before they resigned. \n",
    "\n",
    "### 2.5 Identify Dissatisfied Employees\n",
    "We want to know if employees are resigning due to dissatisfaction so we need to identify the columns that correspond with dissatisfaction.\n",
    "\n",
    "For tafe these are:\n",
    "* `Contributing Factors. Dissatisfaction`\n",
    "* `Contributing Factors. Job Dissatisfaction`\n",
    "\n",
    "For dete these are:\n",
    "* `job_dissatisfaction`\n",
    "* `dissatisfactioon_with_the_department`\n",
    "* `physical_work_environment`\n",
    "* `lack_of_recognition`\n",
    "* `lack_of_job_security`\n",
    "* `work_location`\n",
    "* `employment_conditions`\n",
    "* `work_life_balance`\n",
    "* `workload`\n",
    "\n",
    "If an employee indicated that any of the above factors caused them to resign then we will consider them 'dissatisfied' in a new column. First we  will standardize the `tafe_resignations` columns so they align with the `dete_resignations` columns."
   ]
  },
  {
   "cell_type": "code",
   "execution_count": 85,
   "metadata": {},
   "outputs": [
    {
     "name": "stdout",
     "output_type": "stream",
     "text": [
      "-                                         277\n",
      "Contributing Factors. Dissatisfaction      55\n",
      "NaN                                         8\n",
      "Name: Contributing Factors. Dissatisfaction, dtype: int64\n",
      "\n",
      "\n",
      "-                      270\n",
      "Job Dissatisfaction     62\n",
      "NaN                      8\n",
      "Name: Contributing Factors. Job Dissatisfaction, dtype: int64\n"
     ]
    }
   ],
   "source": [
    "#What values are present in columns related to dissatisfaction?\n",
    "print(tafe_resignations['Contributing Factors. Dissatisfaction'].value_counts(dropna = False))\n",
    "print('\\n')\n",
    "print(tafe_resignations['Contributing Factors. Job Dissatisfaction'].value_counts(dropna = False))"
   ]
  },
  {
   "cell_type": "markdown",
   "metadata": {},
   "source": [
    "We want to convert the values to True or False so we will consider the value `'-'` as False. Next we need to write a function that will convert these values to True or False."
   ]
  },
  {
   "cell_type": "code",
   "execution_count": 86,
   "metadata": {},
   "outputs": [
    {
     "name": "stdout",
     "output_type": "stream",
     "text": [
      "False    241\n",
      "True      91\n",
      "NaN        8\n",
      "Name: dissatisfied, dtype: int64\n"
     ]
    }
   ],
   "source": [
    "#Create a function that returns True or False\n",
    "def update_vals(value):\n",
    "    if pd.isna(value):\n",
    "        return np.nan\n",
    "    elif value == '-':\n",
    "        return False\n",
    "    else:\n",
    "        return True\n",
    "\n",
    "#Convert tafe_resignations columns related to dissatisfaction and assign to new column (dissatisfied)\n",
    "tafe_dissatisfaction_cols = ['Contributing Factors. Dissatisfaction',\n",
    "                             'Contributing Factors. Job Dissatisfaction']\n",
    "\n",
    "tafe_resignations['dissatisfied'] = tafe_resignations[tafe_dissatisfaction_cols].applymap(update_vals).any(1, skipna = False)\n",
    "tafe_resignations_updated = tafe_resignations.copy()\n",
    "\n",
    "#Verify we converted correctly\n",
    "print(tafe_resignations_updated['dissatisfied'].value_counts(dropna = False))\n"
   ]
  },
  {
   "cell_type": "code",
   "execution_count": 87,
   "metadata": {},
   "outputs": [
    {
     "name": "stdout",
     "output_type": "stream",
     "text": [
      "False    162\n",
      "True     149\n",
      "Name: dissatisfied, dtype: int64\n"
     ]
    }
   ],
   "source": [
    "#The dete_resignation columns related to dissatisfaction did not contain values such as '-'\n",
    "#They do not require a function\n",
    "dete_dissatisfied_cols = ['job_dissatisfaction',\n",
    "                          'dissatisfaction_with_the_department',\n",
    "                          'physical_work_environment',\n",
    "                          'lack_of_recognition',\n",
    "                          'lack_of_job_security',\n",
    "                          'work_location',\n",
    "                          'employment_conditions',\n",
    "                          'work_life_balance',\n",
    "                          'workload']\n",
    "\n",
    "#Convert\n",
    "dete_resignations['dissatisfied'] = dete_resignations[dete_dissatisfied_cols].any(1, skipna = False)\n",
    "dete_resignations_updated = dete_resignations.copy()\n",
    "\n",
    "#Verify columns were converted correctly\n",
    "print(dete_resignations_updated['dissatisfied'].value_counts(dropna = False))"
   ]
  },
  {
   "cell_type": "markdown",
   "metadata": {},
   "source": [
    "### 2.6 Create Column to Distinguish Between Datasets\n",
    "Let's make it easier to tell which dataset we are looking at after they are combined by creating a new column that distinguishes each row between DETE and TAFE. Then we will take a final look at our columns to verify that everything is how we want it before we combine all of the data into one dataset."
   ]
  },
  {
   "cell_type": "code",
   "execution_count": 88,
   "metadata": {
    "scrolled": true
   },
   "outputs": [
    {
     "name": "stdout",
     "output_type": "stream",
     "text": [
      "DETE COLUMNS\n",
      "<class 'pandas.core.frame.DataFrame'>\n",
      "Int64Index: 311 entries, 3 to 821\n",
      "Data columns (total 38 columns):\n",
      " #   Column                               Non-Null Count  Dtype  \n",
      "---  ------                               --------------  -----  \n",
      " 0   id                                   311 non-null    int64  \n",
      " 1   separationtype                       311 non-null    object \n",
      " 2   cease_date                           300 non-null    object \n",
      " 3   dete_start_date                      283 non-null    float64\n",
      " 4   role_start_date                      271 non-null    float64\n",
      " 5   position                             308 non-null    object \n",
      " 6   classification                       161 non-null    object \n",
      " 7   region                               265 non-null    object \n",
      " 8   business_unit                        32 non-null     object \n",
      " 9   employment_status                    307 non-null    object \n",
      " 10  career_move_to_public_sector         311 non-null    bool   \n",
      " 11  career_move_to_private_sector        311 non-null    bool   \n",
      " 12  interpersonal_conflicts              311 non-null    bool   \n",
      " 13  job_dissatisfaction                  311 non-null    bool   \n",
      " 14  dissatisfaction_with_the_department  311 non-null    bool   \n",
      " 15  physical_work_environment            311 non-null    bool   \n",
      " 16  lack_of_recognition                  311 non-null    bool   \n",
      " 17  lack_of_job_security                 311 non-null    bool   \n",
      " 18  work_location                        311 non-null    bool   \n",
      " 19  employment_conditions                311 non-null    bool   \n",
      " 20  maternity/family                     311 non-null    bool   \n",
      " 21  relocation                           311 non-null    bool   \n",
      " 22  study/travel                         311 non-null    bool   \n",
      " 23  ill_health                           311 non-null    bool   \n",
      " 24  traumatic_incident                   311 non-null    bool   \n",
      " 25  work_life_balance                    311 non-null    bool   \n",
      " 26  workload                             311 non-null    bool   \n",
      " 27  none_of_the_above                    311 non-null    bool   \n",
      " 28  gender                               302 non-null    object \n",
      " 29  age                                  306 non-null    object \n",
      " 30  aboriginal                           7 non-null      object \n",
      " 31  torres_strait                        0 non-null      object \n",
      " 32  south_sea                            3 non-null      object \n",
      " 33  disability                           8 non-null      object \n",
      " 34  nesb                                 9 non-null      object \n",
      " 35  institute_service                    273 non-null    float64\n",
      " 36  dissatisfied                         311 non-null    bool   \n",
      " 37  institute                            311 non-null    object \n",
      "dtypes: bool(19), float64(3), int64(1), object(15)\n",
      "memory usage: 54.4+ KB\n",
      "None\n",
      "\n",
      "\n",
      "TAFE COLUMNS\n",
      "<class 'pandas.core.frame.DataFrame'>\n",
      "Int64Index: 340 entries, 3 to 701\n",
      "Data columns (total 25 columns):\n",
      " #   Column                                               Non-Null Count  Dtype  \n",
      "---  ------                                               --------------  -----  \n",
      " 0   id                                                   340 non-null    float64\n",
      " 1   Institute                                            340 non-null    object \n",
      " 2   WorkArea                                             340 non-null    object \n",
      " 3   cease_date                                           335 non-null    float64\n",
      " 4   separationtype                                       340 non-null    object \n",
      " 5   Contributing Factors. Career Move - Public Sector    332 non-null    object \n",
      " 6   Contributing Factors. Career Move - Private Sector   332 non-null    object \n",
      " 7   Contributing Factors. Career Move - Self-employment  332 non-null    object \n",
      " 8   Contributing Factors. Ill Health                     332 non-null    object \n",
      " 9   Contributing Factors. Maternity/Family               332 non-null    object \n",
      " 10  Contributing Factors. Dissatisfaction                332 non-null    object \n",
      " 11  Contributing Factors. Job Dissatisfaction            332 non-null    object \n",
      " 12  Contributing Factors. Interpersonal Conflict         332 non-null    object \n",
      " 13  Contributing Factors. Study                          332 non-null    object \n",
      " 14  Contributing Factors. Travel                         332 non-null    object \n",
      " 15  Contributing Factors. Other                          332 non-null    object \n",
      " 16  Contributing Factors. NONE                           332 non-null    object \n",
      " 17  gender                                               290 non-null    object \n",
      " 18  age                                                  290 non-null    object \n",
      " 19  employment_status                                    290 non-null    object \n",
      " 20  position                                             290 non-null    object \n",
      " 21  institute_service                                    290 non-null    object \n",
      " 22  role_service                                         290 non-null    object \n",
      " 23  dissatisfied                                         332 non-null    object \n",
      " 24  institute                                            340 non-null    object \n",
      "dtypes: float64(2), object(23)\n",
      "memory usage: 69.1+ KB\n",
      "None\n"
     ]
    }
   ],
   "source": [
    "#Create column for each dataset\n",
    "dete_resignations_updated['institute']='DETE'\n",
    "tafe_resignations_updated['institute']='TAFE'\n",
    "\n",
    "print('DETE COLUMNS')\n",
    "print(dete_resignations_updated.info())\n",
    "print('\\n')\n",
    "print('TAFE COLUMNS')\n",
    "print(tafe_resignations_updated.info())"
   ]
  },
  {
   "cell_type": "markdown",
   "metadata": {},
   "source": [
    "### 2.7 Combine\n",
    "\n",
    "Now we can combine the dataframes so that the columns are merged and our data will be easier to analyze."
   ]
  },
  {
   "cell_type": "code",
   "execution_count": 89,
   "metadata": {
    "scrolled": true
   },
   "outputs": [
    {
     "name": "stdout",
     "output_type": "stream",
     "text": [
      "id                                                     651\n",
      "separationtype                                         651\n",
      "cease_date                                             635\n",
      "dete_start_date                                        283\n",
      "role_start_date                                        271\n",
      "position                                               598\n",
      "classification                                         161\n",
      "region                                                 265\n",
      "business_unit                                           32\n",
      "employment_status                                      597\n",
      "career_move_to_public_sector                           311\n",
      "career_move_to_private_sector                          311\n",
      "interpersonal_conflicts                                311\n",
      "job_dissatisfaction                                    311\n",
      "dissatisfaction_with_the_department                    311\n",
      "physical_work_environment                              311\n",
      "lack_of_recognition                                    311\n",
      "lack_of_job_security                                   311\n",
      "work_location                                          311\n",
      "employment_conditions                                  311\n",
      "maternity/family                                       311\n",
      "relocation                                             311\n",
      "study/travel                                           311\n",
      "ill_health                                             311\n",
      "traumatic_incident                                     311\n",
      "work_life_balance                                      311\n",
      "workload                                               311\n",
      "none_of_the_above                                      311\n",
      "gender                                                 592\n",
      "age                                                    596\n",
      "aboriginal                                               7\n",
      "torres_strait                                            0\n",
      "south_sea                                                3\n",
      "disability                                               8\n",
      "nesb                                                     9\n",
      "institute_service                                      563\n",
      "dissatisfied                                           643\n",
      "institute                                              651\n",
      "Institute                                              340\n",
      "WorkArea                                               340\n",
      "Contributing Factors. Career Move - Public Sector      332\n",
      "Contributing Factors. Career Move - Private Sector     332\n",
      "Contributing Factors. Career Move - Self-employment    332\n",
      "Contributing Factors. Ill Health                       332\n",
      "Contributing Factors. Maternity/Family                 332\n",
      "Contributing Factors. Dissatisfaction                  332\n",
      "Contributing Factors. Job Dissatisfaction              332\n",
      "Contributing Factors. Interpersonal Conflict           332\n",
      "Contributing Factors. Study                            332\n",
      "Contributing Factors. Travel                           332\n",
      "Contributing Factors. Other                            332\n",
      "Contributing Factors. NONE                             332\n",
      "role_service                                           290\n",
      "dtype: int64\n"
     ]
    }
   ],
   "source": [
    "#Combine (stacked, axis = 0)\n",
    "combined = pd.concat([dete_resignations_updated, tafe_resignations_updated], ignore_index = True)\n",
    "\n",
    "#Filter unnecessary columns by df.notnull\n",
    "print(combined.notnull().sum())\n"
   ]
  },
  {
   "cell_type": "markdown",
   "metadata": {},
   "source": [
    "### 2.8 Remove Unnecessary Rows\n",
    "\n",
    "Now that all of our data is combined in one dataset we can see that we still have a lot of rows that are unneccesary for our analysis. We only need those that are specifically about resignations. So will delete any rows that have less than 500 `non null` values. This will leave us with a manageable number of columns that are relevant to our analysis."
   ]
  },
  {
   "cell_type": "code",
   "execution_count": 90,
   "metadata": {},
   "outputs": [
    {
     "name": "stdout",
     "output_type": "stream",
     "text": [
      "final dete/tafe dataframe\n",
      "<class 'pandas.core.frame.DataFrame'>\n",
      "RangeIndex: 651 entries, 0 to 650\n",
      "Data columns (total 10 columns):\n",
      " #   Column             Non-Null Count  Dtype  \n",
      "---  ------             --------------  -----  \n",
      " 0   id                 651 non-null    float64\n",
      " 1   separationtype     651 non-null    object \n",
      " 2   cease_date         635 non-null    object \n",
      " 3   position           598 non-null    object \n",
      " 4   employment_status  597 non-null    object \n",
      " 5   gender             592 non-null    object \n",
      " 6   age                596 non-null    object \n",
      " 7   institute_service  563 non-null    object \n",
      " 8   dissatisfied       643 non-null    object \n",
      " 9   institute          651 non-null    object \n",
      "dtypes: float64(1), object(9)\n",
      "memory usage: 51.0+ KB\n",
      "None\n"
     ]
    }
   ],
   "source": [
    "#Delete columns that have less than 500 non null values\n",
    "combined_updated = combined.dropna(axis = 1, thresh = 500)\n",
    "print('final dete/tafe dataframe')\n",
    "print(combined_updated.info())"
   ]
  },
  {
   "cell_type": "markdown",
   "metadata": {},
   "source": [
    "Now we have one dataframe with 651 rows and 10 columns. This is much more manageable than what we started with. We were also able to combine rows from the separate dataframes so all of our data is under one column instead of two different columns with different names and values. This will make analysis easier and more efficient.\n",
    "\n",
    "### 2.9 Clean `institute_service` column\n",
    "We need to go back to the new column(`institute_service`) we created and clean it up a bit. This columns contains values in different forms as seen below."
   ]
  },
  {
   "cell_type": "code",
   "execution_count": 91,
   "metadata": {},
   "outputs": [
    {
     "name": "stdout",
     "output_type": "stream",
     "text": [
      "Less than 1 year    73\n",
      "1-2                 64\n",
      "3-4                 63\n",
      "5-6                 33\n",
      "11-20               26\n",
      "5.0                 23\n",
      "1.0                 22\n",
      "7-10                21\n",
      "3.0                 20\n",
      "0.0                 20\n",
      "Name: institute_service, dtype: int64\n"
     ]
    }
   ],
   "source": [
    "print(combined_updated['institute_service'].value_counts().head(10))"
   ]
  },
  {
   "cell_type": "markdown",
   "metadata": {},
   "source": [
    "We have years and ranges. To better analyze this data, we are going to convert the numbers into categories. These categories will be based on  [this article](https://www.businesswire.com/news/home/20171108006002/en/Age-Number-Engage-Employees-Career-Stage) that makes the argument that it is more important to understand where an employee is at in their career stage than how many years they have been with the organization or company. The article breaks these stages into 4 modified categories:\n",
    "\n",
    "* `New`: Less than 3 years at company\n",
    "* `Experienced`: 3-6 years at company\n",
    "* `Established`: 7-10 years at company\n",
    "* `Veteran`: 11 or more years at company\n",
    "\n",
    "We will apply these categories to our `institute_service` column but first we have to remove the text and ranges."
   ]
  },
  {
   "cell_type": "code",
   "execution_count": 92,
   "metadata": {},
   "outputs": [],
   "source": [
    "#Convert column to 'str'\n",
    "combined_copy = combined_updated.copy()#Copied to avoid SettingWithCopyWarning\n",
    "combined_copy['institute_service'] = combined_copy['institute_service'].astype(str)\n",
    "\n",
    "#Remove/convert 'Less than' and 'More than' \n",
    "combined_copy['institute_service'] = combined_copy['institute_service'].str.replace('Less than 1 year', '1')\n",
    "combined_copy['institute_service'] = combined_copy['institute_service'].str.replace('More than 20 years', '20.0')"
   ]
  },
  {
   "cell_type": "markdown",
   "metadata": {},
   "source": [
    "Now we need to take care of the range values. We can take the first number of each range since the whole range will eventually go into a category. So we will extract just the first digit of the range and assign it to a new column (`institute_service_years`)and convert to a float."
   ]
  },
  {
   "cell_type": "code",
   "execution_count": 93,
   "metadata": {},
   "outputs": [
    {
     "name": "stdout",
     "output_type": "stream",
     "text": [
      "0     7.0\n",
      "1    18.0\n",
      "2     3.0\n",
      "3    15.0\n",
      "4     3.0\n",
      "Name: institute_service_years, dtype: float64\n"
     ]
    }
   ],
   "source": [
    "#Extract first digit and convert to float\n",
    "combined_copy['institute_service_years'] = combined_copy['institute_service'].str.extract('(\\d+)').astype(float)\n",
    "#Verify \n",
    "print(combined_copy['institute_service_years'].head(5))"
   ]
  },
  {
   "cell_type": "markdown",
   "metadata": {},
   "source": [
    "### 2.10 Categorize `institute_service_years` Column\n",
    "Now we will create a function that assigns categories based on the `institute_service_years` column and then apply that function to the dataset using `series.apply()`"
   ]
  },
  {
   "cell_type": "code",
   "execution_count": 94,
   "metadata": {},
   "outputs": [
    {
     "name": "stdout",
     "output_type": "stream",
     "text": [
      "New            193\n",
      "Experienced    172\n",
      "Veteran        136\n",
      "NaN             88\n",
      "Established     62\n",
      "Name: service_category, dtype: int64\n"
     ]
    }
   ],
   "source": [
    "#Create a function to assign categories\n",
    "def years_categories(val):\n",
    "    if pd.isnull(val):\n",
    "        return np.nan\n",
    "    if val < 3:\n",
    "        return 'New'\n",
    "    if val < 7:\n",
    "        return 'Experienced'\n",
    "    if val < 11:\n",
    "        return 'Established'\n",
    "    return 'Veteran'\n",
    "\n",
    "#Use function to apply to institute_service_years column and assign to new column(service_category)\n",
    "combined_copy['service_category'] = combined_copy['institute_service_years'].apply(years_categories)\n",
    "print(combined_copy['service_category'].value_counts(dropna = False))"
   ]
  },
  {
   "cell_type": "markdown",
   "metadata": {},
   "source": [
    "### 2.11 Replace `Nan` Values in `dissatisfied` Column\n",
    "The `dissatisfied` column contained 10 NaN values so we will replace those values with the most common value: `False`"
   ]
  },
  {
   "cell_type": "code",
   "execution_count": 95,
   "metadata": {},
   "outputs": [],
   "source": [
    "#Replace NaN values with most common value: False\n",
    "combined_copy['dissatisfied'] = combined_copy['dissatisfied'].fillna(False)"
   ]
  },
  {
   "cell_type": "code",
   "execution_count": 96,
   "metadata": {},
   "outputs": [
    {
     "name": "stdout",
     "output_type": "stream",
     "text": [
      "False    411\n",
      "True     240\n",
      "Name: dissatisfied, dtype: int64\n"
     ]
    }
   ],
   "source": [
    "print(combined_copy['dissatisfied'].value_counts(dropna = False))"
   ]
  },
  {
   "cell_type": "markdown",
   "metadata": {},
   "source": [
    "# 3. Initial Analysis\n",
    "Let's first create a pivot table that shows employees who resigned due to dissatisfaction by using the `dissatisfied`  and `service_category`. This will give us a percentage and we can use this information to then create a bar chart to visualize the results."
   ]
  },
  {
   "cell_type": "code",
   "execution_count": 97,
   "metadata": {},
   "outputs": [
    {
     "name": "stdout",
     "output_type": "stream",
     "text": [
      "                  dissatisfied\n",
      "service_category              \n",
      "Established           0.516129\n",
      "Experienced           0.343023\n",
      "New                   0.295337\n",
      "Veteran               0.485294\n"
     ]
    }
   ],
   "source": [
    "#Create pivot table that shows employees who resigned due to dissatisfaction and their service categories\n",
    "pivot_dissat_combined_copy = combined_copy.pivot_table(values = 'dissatisfied', index ='service_category')\n",
    "print(pivot_dissat_combined_copy)"
   ]
  },
  {
   "cell_type": "code",
   "execution_count": 98,
   "metadata": {},
   "outputs": [
    {
     "data": {
      "image/png": "[encoded data removed]",
      "text/plain": [
       "<Figure size 600x400 with 1 Axes>"
      ]
     },
     "metadata": {},
     "output_type": "display_data"
    }
   ],
   "source": [
    "#Create a bar chart from pivot table to visualize data\n",
    "pivot_dissat_combined=pivot_dissat_combined_copy.plot(kind='bar', title='Resignations Due to Dissatisfaction', legend = False)\n",
    "plt.xlabel('Service Category')\n",
    "plt.xticks(rotation=30)\n",
    "plt.yticks(ticks=[0.1,0.2,0.3,0.4,0.5,0.6],\n",
    "          labels=['10%','20%','30%','40%','50%','60%'])\n",
    "\n",
    "plt.show()"
   ]
  },
  {
   "cell_type": "markdown",
   "metadata": {},
   "source": [
    "# 4. Results\n",
    "We can clearly see that for `'Established'` and `'Veteran'` employees, dissatisfaction accounted for around 50% of their resignations. `'New'` employees resigned due to dissatisfaction about 30% of the time and `'Experienced'` employees were in the middle at about 35%. \n",
    "\n",
    "# 5. Conclusion\n",
    "We found that employees who had been with DETE/TAFE for 7 or more years resigned due to dissatisfaction about half the time. Employees who had been with the company less than 7 years resigned due to dissatisfaction 30%-35% of the time.\n",
    "\n",
    "Something that may account for the resignation of long-term employees is policy changes over the years that affected benefits or compensation packages including salary.\n",
    "\n",
    "Questions for further Analysis:\n",
    "* Instead of using categories for years of service, how does the age of the employee affect the results?\n",
    "* How much do other factors listed in the original surveys contribute to resignations? Does one factor affect the results more than the others or is dissatisfaction the biggest factor?"
   ]
  },
  {
   "cell_type": "code",
   "execution_count": null,
   "metadata": {},
   "outputs": [],
   "source": []
  }
 ],
 "metadata": {
  "kernelspec": {
   "display_name": "Python 3 (ipykernel)",
   "language": "python",
   "name": "python3"
  },
  "language_info": {
   "codemirror_mode": {
    "name": "ipython",
    "version": 3
   },
   "file_extension": ".py",
   "mimetype": "text/x-python",
   "name": "python",
   "nbconvert_exporter": "python",
   "pygments_lexer": "ipython3",
   "version": "3.11.7"
  }
 },
 "nbformat": 4,
 "nbformat_minor": 4
}
